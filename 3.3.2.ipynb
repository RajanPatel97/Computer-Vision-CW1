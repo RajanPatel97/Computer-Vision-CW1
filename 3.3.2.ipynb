{
 "cells": [
  {
   "cell_type": "code",
   "execution_count": 1,
   "metadata": {},
   "outputs": [
    {
     "name": "stdout",
     "output_type": "stream",
     "text": [
      "| 001 DONE |\n",
      "| 002 DONE |\n",
      "| 005 DONE |\n",
      "| 010 DONE |\n",
      "| 025 DONE |\n",
      "| 050 DONE |\n"
     ]
    }
   ],
   "source": [
    "# EXECUTION TIME: 17m48\n",
    "\n",
    "# Python 3 ImportError\n",
    "import sys\n",
    "sys.path.append('.')\n",
    "\n",
    "import numpy as np\n",
    "import matplotlib.pyplot as plt\n",
    "import seaborn as sns\n",
    "from matplotlib.ticker import MaxNLocator\n",
    "\n",
    "import src as ya\n",
    "\n",
    "# prettify plots\n",
    "plt.rcParams['font.family'] = 'Times New Roman'\n",
    "sns.set_style({\"xtick.direction\": \"in\", \"ytick.direction\": \"in\"})\n",
    "\n",
    "b_sns, g_sns, r_sns, p_sns, y_sns, l_sns = sns.color_palette(\"muted\")\n",
    "\n",
    "np.random.seed(1)\n",
    "\n",
    "###########################################################################\n",
    "# Centroids Vector Quantization\n",
    "###########################################################################\n",
    "\n",
    "for num_features in [1, 2, 5, 10, 25, 50]:\n",
    "    data_train, data_query = ya.data.getCaltech(codebook=\"random-forest\",\n",
    "                                                num_descriptors=1e5,\n",
    "                                                pickle_load=False,\n",
    "                                                pickle_dump=False,\n",
    "                                                num_features=num_features)\n",
    "    # TRAINING\n",
    "    X_train, y_train = data_train[:, :-1], data_train[:, -1]\n",
    "    class_list = np.unique(y_train)\n",
    "    fig, axes = plt.subplots(nrows=len(class_list),\n",
    "                             figsize=(3.0, 3.0*len(class_list)), sharey=True)\n",
    "    for image_class, ax in zip(class_list, axes.flatten()):\n",
    "        imgs = X_train[y_train == image_class]\n",
    "        average_features = np.mean(imgs, axis=0)\n",
    "        ax.bar(range(1, 1+len(average_features)),\n",
    "               average_features, color=b_sns)\n",
    "        ax.xaxis.set_major_locator(MaxNLocator(integer=True, nbins=5))\n",
    "        ax.yaxis.set_major_locator(MaxNLocator(nbins=5))\n",
    "        ax.set_title('Class %i' % (image_class + 1))\n",
    "    fig.tight_layout()\n",
    "    fig.savefig('assets/3.3/bar/train/%i.pdf' % (num_features),\n",
    "                format='pdf',\n",
    "                dpi=300,\n",
    "                transparent=True,\n",
    "                bbox_inches='tight',\n",
    "                pad_inches=0.01)\n",
    "    # TESTING\n",
    "    X_test, y_test = data_query[:, :-1], data_query[:, -1]\n",
    "    class_list = np.unique(y_test)\n",
    "    fig, axes = plt.subplots(nrows=len(class_list),\n",
    "                             figsize=(3.0, 3.0*len(class_list)), sharey=True)\n",
    "    for image_class, ax in zip(class_list, axes.flatten()):\n",
    "        imgs = X_test[y_test == image_class]\n",
    "        average_features = np.mean(imgs, axis=0)\n",
    "        ax.bar(range(1, 1+len(average_features)),\n",
    "               average_features, color=r_sns)\n",
    "        ax.xaxis.set_major_locator(MaxNLocator(integer=True, nbins=5))\n",
    "        ax.yaxis.set_major_locator(MaxNLocator(nbins=5))\n",
    "        ax.set_title('Class %i' % (image_class + 1))\n",
    "        plt.setp(ax.get_yticklabels(), visible=True)\n",
    "    fig.tight_layout()\n",
    "    fig.savefig('assets/3.3/bar/test/%i.pdf' % (num_features),\n",
    "                format='pdf',\n",
    "                dpi=300,\n",
    "                transparent=True,\n",
    "                bbox_inches='tight',\n",
    "                pad_inches=0.01)\n",
    "    print('| %03d DONE |' % num_features)"
   ]
  },
  {
   "cell_type": "code",
   "execution_count": null,
   "metadata": {},
   "outputs": [],
   "source": []
  }
 ],
 "metadata": {
  "kernelspec": {
   "display_name": "Python 3",
   "language": "python",
   "name": "python3"
  },
  "language_info": {
   "codemirror_mode": {
    "name": "ipython",
    "version": 3
   },
   "file_extension": ".py",
   "mimetype": "text/x-python",
   "name": "python",
   "nbconvert_exporter": "python",
   "pygments_lexer": "ipython3",
   "version": "3.6.5"
  }
 },
 "nbformat": 4,
 "nbformat_minor": 2
}
